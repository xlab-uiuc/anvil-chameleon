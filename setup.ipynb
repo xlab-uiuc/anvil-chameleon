{
 "cells": [
  {
   "cell_type": "markdown",
   "id": "77458944-ecee-4cae-be54-74d0a5b07bac",
   "metadata": {},
   "source": [
    "# Artifact Evaluation Instructions for \"Anvil: Verifying Liveness of Cluster Management Controllers\""
   ]
  },
  {
   "cell_type": "markdown",
   "id": "85ffa975-3b98-4d7f-8dc4-5f95ab5190c0",
   "metadata": {},
   "source": [
    "## Create experiment container\n",
    "\n",
    "This container provides the following:\n",
    "\n",
    "- One node of type \"compute_skylake\" ([see all types](https://chameleoncloud.readthedocs.io/en/latest/technical/reservations.html#chameleon-node-types))\n",
    "- One public IP\n",
    "\n",
    "### Configuration\n",
    "\n",
    "Enter your project ID in the code block below, if you are not a member of `CHI-231080`."
   ]
  },
  {
   "cell_type": "code",
   "execution_count": 1,
   "id": "666b6774-4a7e-4faa-b6ac-dc99be7ffcda",
   "metadata": {},
   "outputs": [
    {
     "name": "stdout",
     "output_type": "stream",
     "text": [
      "Now using CHI@UC:\n",
      "URL: https://chi.uc.chameleoncloud.org\n",
      "Location: Argonne National Laboratory, Lemont, Illinois, USA\n",
      "Support contact: help@chameleoncloud.org\n",
      "Using Project CHI-231080\n"
     ]
    }
   ],
   "source": [
    "import chi\n",
    "\n",
    "chi.use_site(\"CHI@UC\")\n",
    "chi.set(\"project_name\", \"CHI-231080\")\n",
    "\n",
    "print(f'Using Project {chi.get(\"project_name\")}')"
   ]
  },
  {
   "cell_type": "markdown",
   "id": "5e853b46-2e6a-4748-ad32-73b0c52af89c",
   "metadata": {},
   "source": [
    "### Create reservation\n",
    "\n",
    "Chameleon resources need to be reserved before they can be used. \n",
    "We will reserve one bare metal node and one public IP address, for right now.\n",
    "\n",
    "If you get an error such as \"no host availiable\", it may be the case that all of our nodes are reserved. Check the availiablility calendar to see if this is true:\n",
    "https://chi.uc.chameleoncloud.org/project/leases/calendar/host/\n",
    "\n",
    "It may take around a minute or so for your lease to become active."
   ]
  },
  {
   "cell_type": "code",
   "execution_count": 2,
   "id": "1abf3c44-bfda-4ba8-bce4-5d5ec29d65e4",
   "metadata": {},
   "outputs": [],
   "source": [
    "import os\n",
    "\n",
    "USER = os.getenv('USER')"
   ]
  },
  {
   "cell_type": "code",
   "execution_count": 3,
   "id": "a98e7409-27e2-4c86-ae20-a0f3004408c0",
   "metadata": {},
   "outputs": [
    {
     "name": "stdout",
     "output_type": "stream",
     "text": [
      "Creating lease...\n",
      "Waiting for lease to start ...\n",
      "Lease is now active!\n"
     ]
    }
   ],
   "source": [
    "import os\n",
    "import keystoneauth1, blazarclient\n",
    "from chi import lease\n",
    "\n",
    "reservations = []\n",
    "lease_node_type = \"compute_cascadelake_r\"\n",
    "\n",
    "try:\n",
    "    print(\"Creating lease...\")\n",
    "    lease.add_fip_reservation(reservations, count=1)\n",
    "    lease.add_node_reservation(reservations, node_type=lease_node_type, count=1)\n",
    "\n",
    "    start_date, end_date = lease.lease_duration(hours=3)\n",
    "\n",
    "    l = lease.create_lease(\n",
    "        f\"{os.getenv('USER')}-power-management\", \n",
    "        reservations, \n",
    "        start_date=start_date, \n",
    "        end_date=end_date\n",
    "    )\n",
    "    lease_id = l[\"id\"]\n",
    "\n",
    "    print(\"Waiting for lease to start ...\")\n",
    "    lease.wait_for_active(lease_id)\n",
    "    print(\"Lease is now active!\")\n",
    "except keystoneauth1.exceptions.http.Unauthorized as e:\n",
    "    print(\"Unauthorized.\\nDid set your project name and and run the code in the first cell?\")\n",
    "except blazarclient.exception.BlazarClientException as e:\n",
    "    print(f\"There is an issue making the reservation. Check the calendar to make sure a {lease_node_type} node is available.\")\n",
    "    print(\"https://chi.uc.chameleoncloud.org/project/leases/calendar/host/\")\n",
    "    print(e)\n",
    "except Exception as e:\n",
    "    print(\"An unexpected error happened.\")\n",
    "    print(e)"
   ]
  },
  {
   "cell_type": "markdown",
   "id": "8ff2aa5a-66a2-4f70-abfb-b69c4b290589",
   "metadata": {},
   "source": [
    "### Provision bare metal node\n",
    "\n",
    "Next, we will launch the reserved node with an image. \n",
    "It will take approximately 10 minutes for the bare metal node to be successfully provisioned. \n",
    "\n",
    "This step takes the longest. First, our controller node must configure the requested node, which first sets up a deploy image. This image then downloads and copies the real image onto the hard drive, and the node is configured to reboot to the new OS. \n",
    "\n",
    "You can browse the images we offer in our appliance catalog: http://chameleoncloud.org/appliances"
   ]
  },
  {
   "cell_type": "code",
   "execution_count": 4,
   "id": "41e4a958-96de-45b7-a7c6-1540923d0e45",
   "metadata": {},
   "outputs": [
    {
     "name": "stdout",
     "output_type": "stream",
     "text": [
      "Waiting for server to start ...\n",
      "Done\n"
     ]
    }
   ],
   "source": [
    "from chi import server, lease\n",
    "\n",
    "image = \"CC-Ubuntu22.04\"\n",
    "\n",
    "s = server.create_server(\n",
    "    f\"{os.getenv('USER')}-power-management\", \n",
    "    image_name=image,\n",
    "    reservation_id=lease.get_node_reservation(lease_id)\n",
    ")\n",
    "\n",
    "print(\"Waiting for server to start ...\")\n",
    "server.wait_for_active(s.id)\n",
    "print(\"Done\")"
   ]
  },
  {
   "cell_type": "code",
   "execution_count": 5,
   "id": "d16dc70a-770a-4e2b-b9f1-bdb12c4c90a6",
   "metadata": {},
   "outputs": [
    {
     "name": "stdout",
     "output_type": "stream",
     "text": [
      "Waiting for SSH connectivity on 192.5.86.241 ...\n",
      "After 120 seconds, could not connect via SSH. Please try again.\n",
      "Connection successful\n"
     ]
    }
   ],
   "source": [
    "floating_ip = lease.get_reserved_floating_ips(lease_id)[0]\n",
    "server.associate_floating_ip(s.id, floating_ip_address=floating_ip)\n",
    "\n",
    "print(f\"Waiting for SSH connectivity on {floating_ip} ...\")\n",
    "timeout = 60*2\n",
    "import socket\n",
    "import time\n",
    "# Repeatedly try to connect via SSH.\n",
    "start_time = time.perf_counter()\n",
    "while True:\n",
    "    try:\n",
    "        with socket.create_connection((floating_ip, 22), timeout=timeout):\n",
    "            print(\"Connection successful\")\n",
    "            break\n",
    "    except OSError as ex:\n",
    "        time.sleep(10)\n",
    "        if time.perf_counter() - start_time >= timeout:\n",
    "            print(f\"After {timeout} seconds, could not connect via SSH. Please try again.\")"
   ]
  },
  {
   "cell_type": "markdown",
   "id": "cd683c3b-4729-4b05-af71-4955a157e189",
   "metadata": {},
   "source": [
    "## Setup environment in the node (~1 minute)"
   ]
  },
  {
   "cell_type": "code",
   "execution_count": 13,
   "id": "8312783b-104b-4631-8dd2-527a0e6e997d",
   "metadata": {},
   "outputs": [
    {
     "name": "stdout",
     "output_type": "stream",
     "text": [
      "Hit:1 https://download.docker.com/linux/ubuntu jammy InRelease\n",
      "Hit:2 http://archive.ubuntu.com/ubuntu jammy InRelease\n",
      "Hit:3 http://archive.ubuntu.com/ubuntu jammy-updates InRelease\n",
      "Hit:4 http://archive.ubuntu.com/ubuntu jammy-backports InRelease\n",
      "Hit:5 http://security.ubuntu.com/ubuntu jammy-security InRelease\n",
      "Reading package lists...\n",
      "Reading package lists...\n",
      "Building dependency tree...\n",
      "Reading state information...\n",
      "ca-certificates is already the newest version (20230311ubuntu0.22.04.1).\n",
      "curl is already the newest version (7.81.0-1ubuntu1.16).\n",
      "0 upgraded, 0 newly installed, 0 to remove and 86 not upgraded.\n",
      "Hit:1 https://download.docker.com/linux/ubuntu jammy InRelease\n",
      "Hit:2 http://security.ubuntu.com/ubuntu jammy-security InRelease\n",
      "Hit:3 http://archive.ubuntu.com/ubuntu jammy InRelease\n",
      "Hit:4 http://archive.ubuntu.com/ubuntu jammy-updates InRelease\n",
      "Hit:5 http://archive.ubuntu.com/ubuntu jammy-backports InRelease\n",
      "Reading package lists...\n",
      "Reading package lists...\n",
      "Building dependency tree...\n",
      "Reading state information...\n",
      "containerd.io is already the newest version (1.7.18-1).\n",
      "docker-buildx-plugin is already the newest version (0.15.1-1~ubuntu.22.04~jammy).\n",
      "docker-ce-cli is already the newest version (5:27.0.3-1~ubuntu.22.04~jammy).\n",
      "docker-ce is already the newest version (5:27.0.3-1~ubuntu.22.04~jammy).\n",
      "docker-compose-plugin is already the newest version (2.28.1-1~ubuntu.22.04~jammy).\n",
      "0 upgraded, 0 newly installed, 0 to remove and 86 not upgraded.\n"
     ]
    }
   ],
   "source": [
    "from chi import ssh\n",
    "\n",
    "with ssh.Remote(floating_ip) as conn:\n",
    "    # Upload the script\n",
    "    conn.put(\"docker.sh\")\n",
    "    # Run the script\n",
    "    conn.run(\"bash docker.sh\")"
   ]
  },
  {
   "cell_type": "markdown",
   "id": "ba02ee58-3571-4565-bd2c-713066c59753",
   "metadata": {},
   "source": [
    "## Running the experiment\n",
    "Following the instructions, you will reproduce the key results that (1) the Anvil framework and the three controllers are verified, and (2) the code size the time to verify are consistent with Table 1 in the paper.\n",
    "\n",
    "This command runs Verus to verify the Anvil framework and the three controllers and collects statistics including code sizes and time to verify. It takes about 12 minutes.\n",
    "\n",
    "At the end, it outputs the Table 1 in the paper."
   ]
  },
  {
   "cell_type": "code",
   "execution_count": 35,
   "id": "82bfeeb9-1f78-4c79-b96a-4d59cdddf8e6",
   "metadata": {},
   "outputs": [
    {
     "name": "stdout",
     "output_type": "stream",
     "text": [
      "latest: Pulling from vmware-research/verifiable-controllers/anvil-ae\n",
      "Digest: sha256:b06756d2a382059c1264fe9634803f35e8b65d28a9399d44a586191275f1b23f\n",
      "Status: Image is up to date for ghcr.io/vmware-research/verifiable-controllers/anvil-ae:latest\n",
      "ghcr.io/vmware-research/verifiable-controllers/anvil-ae:latest\n",
      "anvil\n",
      "629a9bbebd564d14ca1437eca77e60d21864b67f4a8e2214b5c4740c30f74492\n",
      "|                           | Trusted (LoC)   | Exec (LoC)   | Proof (LoC)   | Time to Verify (seconds)   |\n",
      "|---------------------------|-----------------|--------------|---------------|----------------------------|\n",
      "| ZooKeeper controller      |                 |              |               |                            |\n",
      "| |---Liveness              | 94              | --           | 7245          | 219.281                    |\n",
      "| |---Conformance           | 5               | --           | 172           | 5.789                      |\n",
      "| |---Controller model      | --              | --           | 935           | --                         |\n",
      "| |---Controller impl       | --              | 1134         | --            | --                         |\n",
      "| |---Trusted wrapper       | 515             | --           | --            | --                         |\n",
      "| |---Trusted ZooKeeper API | 318             | --           | --            | --                         |\n",
      "| |---Trusted entry point   | 19              | --           | --            | --                         |\n",
      "| |---Total                 | 951             | 1134         | 8352          | 225.07 (55.465)            |\n",
      "| RabbitMQ controller       |                 |              |               |                            |\n",
      "| |---Liveness              | 144             | --           | 5211          | 135.962                    |\n",
      "| |---Safety                | 22              | --           | 358           | 12.805                     |\n",
      "| |---Conformance           | 5               | --           | 290           | 10.838                     |\n",
      "| |---Controller model      | --              | --           | 1369          | --                         |\n",
      "| |---Controller impl       | --              | 1598         | --            | --                         |\n",
      "| |---Trusted wrapper       | 359             | --           | --            | --                         |\n",
      "| |---Trusted entry point   | 19              | --           | --            | --                         |\n",
      "| |---Total                 | 549             | 1598         | 7228          | 159.605 (57.05)            |\n",
      "| Fluent controller         |                 |              |               |                            |\n",
      "| |---Liveness              | 115             | --           | 7079          | 169.151                    |\n",
      "| |---Conformance           | 10              | --           | 201           | 5.992                      |\n",
      "| |---Controller model      | --              | --           | 1115          | --                         |\n",
      "| |---Controller impl       | --              | 1208         | --            | --                         |\n",
      "| |---Trusted wrapper       | 681             | --           | --            | --                         |\n",
      "| |---Trusted entry point   | 24              | --           | --            | --                         |\n",
      "| |---Total                 | 830             | 1208         | 8395          | 175.143 (45.533)           |\n",
      "| Total(all)                | 2330            | 3940         | 23975         | 559.818 (158.048)          |\n"
     ]
    }
   ],
   "source": [
    "with ssh.Remote(floating_ip) as conn:\n",
    "    conn.put(\"startAnvil.sh\")\n",
    "    conn.run(\"bash startAnvil.sh\")\n",
    "    print(\"Start verifying all controllers...\")\n",
    "    conn.run(\"docker exec -e VERUS_DIR=/verus anvil ./reproduce-verification-result.sh &> /dev/null\")\n",
    "    conn.run(\"docker exec -e VERUS_DIR=/verus anvil cat tools/t1.txt\")"
   ]
  },
  {
   "cell_type": "code",
   "execution_count": null,
   "id": "4d9bdb0e-dbca-4b7b-8523-57690df88958",
   "metadata": {},
   "outputs": [],
   "source": []
  }
 ],
 "metadata": {
  "kernelspec": {
   "display_name": "Python 3 (ipykernel)",
   "language": "python",
   "name": "python3"
  },
  "language_info": {
   "codemirror_mode": {
    "name": "ipython",
    "version": 3
   },
   "file_extension": ".py",
   "mimetype": "text/x-python",
   "name": "python",
   "nbconvert_exporter": "python",
   "pygments_lexer": "ipython3",
   "version": "3.10.9"
  }
 },
 "nbformat": 4,
 "nbformat_minor": 5
}
